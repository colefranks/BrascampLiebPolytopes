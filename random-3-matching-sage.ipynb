{
 "cells": [
  {
   "cell_type": "code",
   "execution_count": 2,
   "id": "981f49d5",
   "metadata": {},
   "outputs": [],
   "source": []
  },
  {
   "cell_type": "code",
   "execution_count": 1,
   "id": "e2aa2fa4",
   "metadata": {},
   "outputs": [
    {
     "name": "stderr",
     "output_type": "stream",
     "text": [
      "/usr/local/Caskroom/miniconda/base/envs/sage/lib/python3.9/site-packages/sage/misc/prandom.py:151: DeprecationWarning: The *random* parameter to shuffle() has been deprecated\n",
      "since Python 3.9 and will be removed in a subsequent version.\n",
      "  return _pyrand().shuffle(x, random)\n"
     ]
    },
    {
     "data": {
      "text/plain": [
       "819401/33211"
      ]
     },
     "execution_count": 1,
     "metadata": {},
     "output_type": "execute_result"
    }
   ],
   "source": [
    "#create a random constraint\n",
    "n = 77\n",
    "m = 133\n",
    "A = []\n",
    "for i in range(m):\n",
    "    row = [1,1,1]\n",
    "    row.extend([0 for i in range(n-3)])\n",
    "    row\n",
    "\n",
    "    sage.misc.prandom.shuffle(row)\n",
    "    A.append(row)\n",
    "    \n",
    "A = matrix(A).T\n",
    "\n",
    "p = MixedIntegerLinearProgram(maximization=True, solver='ppl')\n",
    "x = p.new_variable(nonnegative=True)\n",
    "p.set_objective(sum(x[i]for i in range(m)))\n",
    "p.add_constraint(A*x<=1)\n",
    "v = p.solve()\n",
    "v\n",
    "#are getting some pretty strange denominators."
   ]
  },
  {
   "cell_type": "code",
   "execution_count": 157,
   "id": "9b71f296",
   "metadata": {},
   "outputs": [],
   "source": [
    "def rand_3_match(m,n):\n",
    "    A = []\n",
    "    for i in range(m):\n",
    "        row = [1,1,1]\n",
    "        row.extend([0 for i in range(n-3)])\n",
    "        row\n",
    "\n",
    "        sage.misc.prandom.shuffle(row)\n",
    "        A.append(row)\n",
    "    \n",
    "    A = matrix(A).T\n",
    "\n",
    "    p = MixedIntegerLinearProgram(maximization=True, solver='ppl')\n",
    "    x = p.new_variable(nonnegative=True)\n",
    "    p.set_objective(sum(x[i]for i in range(m)))\n",
    "    p.add_constraint(A*x<=1)\n",
    "    v = p.solve()\n",
    "    return v"
   ]
  },
  {
   "cell_type": "code",
   "execution_count": 166,
   "id": "c4da4ba5",
   "metadata": {},
   "outputs": [
    {
     "name": "stdout",
     "output_type": "stream",
     "text": [
      "n:  3 denom:  1\n",
      "n:  4 denom:  3\n",
      "n:  5 denom:  3\n",
      "n:  6 denom:  4\n",
      "n:  7 denom:  3\n",
      "n:  8 denom:  5\n",
      "n:  9 denom:  7\n",
      "n:  10 denom:  5\n",
      "n:  11 denom:  8\n",
      "n:  12 denom:  15\n",
      "n:  13 denom:  6\n",
      "n:  14 denom:  8\n",
      "n:  15 denom:  15\n",
      "n:  16 denom:  13\n",
      "n:  17 denom:  32\n",
      "n:  18 denom:  22\n",
      "n:  19 denom:  28\n",
      "n:  20 denom:  19\n",
      "n:  21 denom:  35\n",
      "n:  22 denom:  25\n",
      "n:  23 denom:  26\n",
      "n:  24 denom:  44\n",
      "n:  25 denom:  7\n",
      "n:  26 denom:  53\n",
      "n:  27 denom:  196\n",
      "n:  28 denom:  73\n",
      "n:  29 denom:  28\n",
      "n:  30 denom:  125\n",
      "n:  31 denom:  73\n",
      "n:  32 denom:  92\n",
      "n:  33 denom:  287\n",
      "n:  34 denom:  215\n",
      "n:  35 denom:  309\n",
      "n:  36 denom:  287\n",
      "n:  37 denom:  146\n",
      "n:  38 denom:  236\n",
      "n:  39 denom:  252\n",
      "n:  40 denom:  369\n",
      "n:  41 denom:  448\n",
      "n:  42 denom:  695\n",
      "n:  43 denom:  1231\n",
      "n:  44 denom:  1426\n",
      "n:  45 denom:  534\n",
      "n:  46 denom:  2336\n",
      "n:  47 denom:  977\n",
      "n:  48 denom:  1111\n",
      "n:  49 denom:  8450\n",
      "n:  50 denom:  2379\n",
      "n:  51 denom:  1199\n",
      "n:  52 denom:  3653\n",
      "n:  53 denom:  3994\n",
      "n:  54 denom:  787\n",
      "n:  55 denom:  4133\n",
      "n:  56 denom:  2320\n",
      "n:  57 denom:  1441\n",
      "n:  58 denom:  3734\n",
      "n:  59 denom:  2436\n",
      "n:  60 denom:  1965\n",
      "n:  61 denom:  39772\n",
      "n:  62 denom:  10351\n",
      "n:  63 denom:  5835\n",
      "n:  64 denom:  5789\n",
      "n:  65 denom:  34913\n",
      "n:  66 denom:  15224\n",
      "n:  67 denom:  14448\n",
      "n:  68 denom:  14380\n",
      "n:  69 denom:  38267\n",
      "n:  70 denom:  14257\n",
      "n:  71 denom:  76235\n",
      "n:  72 denom:  2060\n",
      "n:  73 denom:  29357\n",
      "n:  74 denom:  47711\n",
      "n:  75 denom:  18831\n",
      "n:  76 denom:  316860\n",
      "n:  77 denom:  134476\n",
      "n:  78 denom:  85119\n",
      "n:  79 denom:  46620\n",
      "n:  80 denom:  43111\n",
      "n:  81 denom:  117843\n",
      "n:  82 denom:  42076\n",
      "n:  83 denom:  225462\n",
      "n:  84 denom:  84684\n",
      "n:  85 denom:  78908\n",
      "n:  86 denom:  205697\n",
      "n:  87 denom:  212831\n",
      "n:  88 denom:  238419\n",
      "n:  89 denom:  12036\n",
      "n:  90 denom:  202648\n",
      "n:  91 denom:  389601\n",
      "n:  92 denom:  463221\n",
      "n:  93 denom:  461358\n",
      "n:  94 denom:  643478\n",
      "n:  95 denom:  806065\n",
      "n:  96 denom:  290838\n",
      "n:  97 denom:  197513\n",
      "n:  98 denom:  801312\n",
      "n:  99 denom:  1011429\n",
      "n:  100 denom:  1092474\n",
      "n:  101 denom:  673921\n",
      "n:  102 denom:  699570\n",
      "n:  103 denom:  3138827\n",
      "n:  104 denom:  1016456\n",
      "n:  105 denom:  305174\n",
      "n:  106 denom:  1467263\n",
      "n:  107 denom:  695769\n",
      "n:  108 denom:  3416717\n",
      "n:  109 denom:  13674125\n",
      "n:  110 denom:  1377329\n",
      "n:  111 denom:  1815955\n",
      "n:  112 denom:  2303619\n",
      "n:  113 denom:  1911629\n",
      "n:  114 denom:  7611396\n",
      "n:  115 denom:  7888503\n",
      "n:  116 denom:  5539815\n",
      "n:  117 denom:  5263249\n",
      "n:  118 denom:  7258750\n",
      "n:  119 denom:  4092528\n",
      "n:  120 denom:  24128691\n",
      "n:  121 denom:  1882726\n",
      "n:  122 denom:  3659145\n",
      "n:  123 denom:  13270549\n",
      "n:  124 denom:  13640921\n",
      "n:  125 denom:  52650638\n",
      "n:  126 denom:  9245530\n",
      "n:  127 denom:  34756289\n",
      "n:  128 denom:  22958765\n",
      "n:  129 denom:  102515333\n",
      "n:  130 denom:  12289917\n",
      "n:  131 denom:  71878792\n",
      "n:  132 denom:  89832802\n",
      "n:  133 denom:  20916331\n",
      "n:  134 denom:  37704662\n",
      "n:  135 denom:  60948987\n",
      "n:  136 denom:  67904105\n",
      "n:  137 denom:  86966589\n",
      "n:  138 denom:  16996927\n",
      "n:  139 denom:  14025555\n",
      "n:  140 denom:  9646481\n",
      "n:  141 denom:  271131061\n",
      "n:  142 denom:  89426471\n",
      "n:  143 denom:  56899529\n",
      "n:  144 denom:  196607188\n",
      "n:  145 denom:  388150196\n",
      "n:  146 denom:  103864465\n",
      "n:  147 denom:  336702432\n",
      "n:  148 denom:  117814494\n",
      "n:  149 denom:  281757424\n",
      "n:  150 denom:  52996079\n",
      "n:  151 denom:  385142029\n",
      "n:  152 denom:  93650959\n",
      "n:  153 denom:  820551539\n",
      "n:  154 denom:  285584168\n",
      "n:  155 denom:  338577013\n",
      "n:  156 denom:  203509302\n"
     ]
    },
    {
     "ename": "KeyboardInterrupt",
     "evalue": "",
     "output_type": "error",
     "traceback": [
      "\u001b[0;31m---------------------------------------------------------------------------\u001b[0m",
      "\u001b[0;31mKeyboardInterrupt\u001b[0m                         Traceback (most recent call last)",
      "\u001b[0;32m<ipython-input-166-220798b2ffc1>\u001b[0m in \u001b[0;36m<module>\u001b[0;34m\u001b[0m\n\u001b[1;32m      6\u001b[0m     \u001b[0mdenoms\u001b[0m \u001b[0;34m=\u001b[0m \u001b[0;34m[\u001b[0m\u001b[0;34m]\u001b[0m\u001b[0;34m\u001b[0m\u001b[0;34m\u001b[0m\u001b[0m\n\u001b[1;32m      7\u001b[0m     \u001b[0;32mfor\u001b[0m \u001b[0mtrial\u001b[0m \u001b[0;32min\u001b[0m \u001b[0mrange\u001b[0m\u001b[0;34m(\u001b[0m\u001b[0mnum_trials\u001b[0m\u001b[0;34m)\u001b[0m\u001b[0;34m:\u001b[0m\u001b[0;34m\u001b[0m\u001b[0;34m\u001b[0m\u001b[0m\n\u001b[0;32m----> 8\u001b[0;31m         \u001b[0mv\u001b[0m \u001b[0;34m=\u001b[0m \u001b[0mrand_3_match\u001b[0m\u001b[0;34m(\u001b[0m\u001b[0mm\u001b[0m\u001b[0;34m,\u001b[0m\u001b[0mn\u001b[0m\u001b[0;34m)\u001b[0m\u001b[0;34m\u001b[0m\u001b[0;34m\u001b[0m\u001b[0m\n\u001b[0m\u001b[1;32m      9\u001b[0m         \u001b[0mv\u001b[0m \u001b[0;34m=\u001b[0m \u001b[0mdenominator\u001b[0m\u001b[0;34m(\u001b[0m\u001b[0mv\u001b[0m\u001b[0;34m)\u001b[0m\u001b[0;34m\u001b[0m\u001b[0;34m\u001b[0m\u001b[0m\n\u001b[1;32m     10\u001b[0m         \u001b[0mdenoms\u001b[0m\u001b[0;34m.\u001b[0m\u001b[0mappend\u001b[0m\u001b[0;34m(\u001b[0m\u001b[0mv\u001b[0m\u001b[0;34m)\u001b[0m\u001b[0;34m\u001b[0m\u001b[0;34m\u001b[0m\u001b[0m\n",
      "\u001b[0;32m<ipython-input-157-a2c48145e35e>\u001b[0m in \u001b[0;36mrand_3_match\u001b[0;34m(m, n)\u001b[0m\n\u001b[1;32m     15\u001b[0m     \u001b[0mp\u001b[0m\u001b[0;34m.\u001b[0m\u001b[0mset_objective\u001b[0m\u001b[0;34m(\u001b[0m\u001b[0msum\u001b[0m\u001b[0;34m(\u001b[0m\u001b[0mx\u001b[0m\u001b[0;34m[\u001b[0m\u001b[0mi\u001b[0m\u001b[0;34m]\u001b[0m\u001b[0;32mfor\u001b[0m \u001b[0mi\u001b[0m \u001b[0;32min\u001b[0m \u001b[0mrange\u001b[0m\u001b[0;34m(\u001b[0m\u001b[0mm\u001b[0m\u001b[0;34m)\u001b[0m\u001b[0;34m)\u001b[0m\u001b[0;34m)\u001b[0m\u001b[0;34m\u001b[0m\u001b[0;34m\u001b[0m\u001b[0m\n\u001b[1;32m     16\u001b[0m     \u001b[0mp\u001b[0m\u001b[0;34m.\u001b[0m\u001b[0madd_constraint\u001b[0m\u001b[0;34m(\u001b[0m\u001b[0mA\u001b[0m\u001b[0;34m*\u001b[0m\u001b[0mx\u001b[0m\u001b[0;34m<=\u001b[0m\u001b[0mInteger\u001b[0m\u001b[0;34m(\u001b[0m\u001b[0;36m1\u001b[0m\u001b[0;34m)\u001b[0m\u001b[0;34m)\u001b[0m\u001b[0;34m\u001b[0m\u001b[0;34m\u001b[0m\u001b[0m\n\u001b[0;32m---> 17\u001b[0;31m     \u001b[0mv\u001b[0m \u001b[0;34m=\u001b[0m \u001b[0mp\u001b[0m\u001b[0;34m.\u001b[0m\u001b[0msolve\u001b[0m\u001b[0;34m(\u001b[0m\u001b[0;34m)\u001b[0m\u001b[0;34m\u001b[0m\u001b[0;34m\u001b[0m\u001b[0m\n\u001b[0m\u001b[1;32m     18\u001b[0m     \u001b[0;32mreturn\u001b[0m \u001b[0mv\u001b[0m\u001b[0;34m\u001b[0m\u001b[0;34m\u001b[0m\u001b[0m\n",
      "\u001b[0;32m/usr/local/Caskroom/miniconda/base/envs/sage/lib/python3.9/site-packages/sage/numerical/mip.pyx\u001b[0m in \u001b[0;36msage.numerical.mip.MixedIntegerLinearProgram.solve (build/cythonized/sage/numerical/mip.c:15620)\u001b[0;34m()\u001b[0m\n\u001b[1;32m   2249\u001b[0m         \"\"\"\n\u001b[1;32m   2250\u001b[0m         \u001b[0;32mif\u001b[0m \u001b[0mlog\u001b[0m \u001b[0;32mis\u001b[0m \u001b[0;32mnot\u001b[0m \u001b[0;32mNone\u001b[0m\u001b[0;34m:\u001b[0m \u001b[0mself\u001b[0m\u001b[0;34m.\u001b[0m\u001b[0m_backend\u001b[0m\u001b[0;34m.\u001b[0m\u001b[0mset_verbosity\u001b[0m\u001b[0;34m(\u001b[0m\u001b[0mlog\u001b[0m\u001b[0;34m)\u001b[0m\u001b[0;34m\u001b[0m\u001b[0;34m\u001b[0m\u001b[0m\n\u001b[0;32m-> 2251\u001b[0;31m         \u001b[0mself\u001b[0m\u001b[0;34m.\u001b[0m\u001b[0m_backend\u001b[0m\u001b[0;34m.\u001b[0m\u001b[0msolve\u001b[0m\u001b[0;34m(\u001b[0m\u001b[0;34m)\u001b[0m\u001b[0;34m\u001b[0m\u001b[0;34m\u001b[0m\u001b[0m\n\u001b[0m\u001b[1;32m   2252\u001b[0m         \u001b[0;32mreturn\u001b[0m \u001b[0mself\u001b[0m\u001b[0;34m.\u001b[0m\u001b[0m_backend\u001b[0m\u001b[0;34m.\u001b[0m\u001b[0mget_objective_value\u001b[0m\u001b[0;34m(\u001b[0m\u001b[0;34m)\u001b[0m\u001b[0;34m\u001b[0m\u001b[0;34m\u001b[0m\u001b[0m\n\u001b[1;32m   2253\u001b[0m \u001b[0;34m\u001b[0m\u001b[0m\n",
      "\u001b[0;32m/usr/local/Caskroom/miniconda/base/envs/sage/lib/python3.9/site-packages/sage/numerical/backends/ppl_backend.pyx\u001b[0m in \u001b[0;36msage.numerical.backends.ppl_backend.PPLBackend.solve (build/cythonized/sage/numerical/backends/ppl_backend.c:10260)\u001b[0;34m()\u001b[0m\n\u001b[1;32m    722\u001b[0m         \u001b[0mself\u001b[0m\u001b[0;34m.\u001b[0m\u001b[0minit_mip\u001b[0m\u001b[0;34m(\u001b[0m\u001b[0;34m)\u001b[0m\u001b[0;34m\u001b[0m\u001b[0;34m\u001b[0m\u001b[0m\n\u001b[1;32m    723\u001b[0m \u001b[0;34m\u001b[0m\u001b[0m\n\u001b[0;32m--> 724\u001b[0;31m         \u001b[0mans\u001b[0m \u001b[0;34m=\u001b[0m \u001b[0mself\u001b[0m\u001b[0;34m.\u001b[0m\u001b[0mmip\u001b[0m\u001b[0;34m.\u001b[0m\u001b[0msolve\u001b[0m\u001b[0;34m(\u001b[0m\u001b[0;34m)\u001b[0m\u001b[0;34m\u001b[0m\u001b[0;34m\u001b[0m\u001b[0m\n\u001b[0m\u001b[1;32m    725\u001b[0m \u001b[0;34m\u001b[0m\u001b[0m\n\u001b[1;32m    726\u001b[0m         \u001b[0;32mif\u001b[0m \u001b[0mans\u001b[0m\u001b[0;34m[\u001b[0m\u001b[0;34m'status'\u001b[0m\u001b[0;34m]\u001b[0m \u001b[0;34m==\u001b[0m \u001b[0;34m'optimized'\u001b[0m\u001b[0;34m:\u001b[0m\u001b[0;34m\u001b[0m\u001b[0;34m\u001b[0m\u001b[0m\n",
      "\u001b[0;32mppl/mip_problem.pyx\u001b[0m in \u001b[0;36mppl.mip_problem.MIP_Problem.solve\u001b[0;34m()\u001b[0m\n",
      "\u001b[0;31mKeyboardInterrupt\u001b[0m: "
     ]
    }
   ],
   "source": [
    "num_trials = 20\n",
    "upper = 200\n",
    "biggest_denoms = []\n",
    "for n in range(3,upper):\n",
    "    m = 2*n + 1\n",
    "    denoms = []\n",
    "    for trial in range(num_trials):\n",
    "        v = rand_3_match(m,n)\n",
    "        v = denominator(v)\n",
    "        denoms.append(v)\n",
    "    print(\"n: \", n, \"denom: \", max(denoms))\n",
    "    biggest_denoms.append(max(denoms))\n",
    "\n"
   ]
  },
  {
   "cell_type": "code",
   "execution_count": 154,
   "id": "f64b8736",
   "metadata": {},
   "outputs": [
    {
     "data": {
      "text/plain": [
       "4/3"
      ]
     },
     "execution_count": 154,
     "metadata": {},
     "output_type": "execute_result"
    }
   ],
   "source": [
    "rand_3_match(9,4)"
   ]
  },
  {
   "cell_type": "code",
   "execution_count": 167,
   "id": "d3dfe6a0",
   "metadata": {},
   "outputs": [
    {
     "data": {
      "image/png": "[encoded data removed]",
      "text/plain": [
       "Graphics object consisting of 1 graphics primitive"
      ]
     },
     "execution_count": 167,
     "metadata": {},
     "output_type": "execute_result"
    }
   ],
   "source": [
    "list_plot([log(i) for i in biggest_denoms])"
   ]
  }
 ],
 "metadata": {
  "kernelspec": {
   "display_name": "SageMath 9.2",
   "language": "sage",
   "name": "sagemath"
  },
  "language_info": {
   "codemirror_mode": {
    "name": "ipython",
    "version": 3
   },
   "file_extension": ".py",
   "mimetype": "text/x-python",
   "name": "python",
   "nbconvert_exporter": "python",
   "pygments_lexer": "ipython3",
   "version": "3.9.2"
  }
 },
 "nbformat": 4,
 "nbformat_minor": 5
}
