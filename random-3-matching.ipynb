{
 "cells": [
  {
   "cell_type": "code",
   "execution_count": 3,
   "id": "loved-pakistan",
   "metadata": {},
   "outputs": [],
   "source": [
    "import numpy as np\n",
    "import cvxpy as cp"
   ]
  },
  {
   "cell_type": "code",
   "execution_count": 4,
   "id": "effective-director",
   "metadata": {},
   "outputs": [
    {
     "name": "stdout",
     "output_type": "stream",
     "text": [
      "\n",
      "The optimal value is -15.220912605552899\n",
      "A solution x is\n",
      "[-1.10133381 -0.16360111 -0.89734939  0.03216603  0.6069123  -1.12687348\n",
      "  1.12967856  0.88176638  0.49075229  0.8984822 ]\n",
      "A dual solution is\n",
      "[6.98804877e-10 6.11756416e-01 5.28171747e-01 1.07296862e+00\n",
      " 3.93758939e-09 2.30153870e+00 4.25704139e-10 7.61206896e-01\n",
      " 8.36906241e-09 2.49370377e-01 1.30187061e-09 2.06014070e+00\n",
      " 3.22417207e-01 3.84054343e-01 1.59493664e-09]\n"
     ]
    }
   ],
   "source": [
    "# test \n",
    "\n",
    "m = 15\n",
    "n = 10\n",
    "np.random.seed(1)\n",
    "s0 = np.random.randn(m)\n",
    "lamb0 = np.maximum(-s0, 0)\n",
    "s0 = np.maximum(s0, 0)\n",
    "x0 = np.random.randn(n)\n",
    "A = np.random.randn(m, n)\n",
    "b = A @ x0 + s0\n",
    "c = -A.T @ ldamb0\n",
    "\n",
    "# Define and solve the CVXPY problem.\n",
    "x = cp.Variable(n)\n",
    "prob = cp.Problem(cp.Minimize(c.T@x),\n",
    "                 [A @ x <= b])\n",
    "prob.solve()\n",
    "\n",
    "# Print result.\n",
    "print(\"\\nThe optimal value is\", prob.value)\n",
    "print(\"A solution x is\")\n",
    "print(x.value)\n",
    "print(\"A dual solution is\")\n",
    "print(prob.constraints[0].dual_value)"
   ]
  },
  {
   "cell_type": "code",
   "execution_count": 28,
   "id": "difficult-wisdom",
   "metadata": {},
   "outputs": [
    {
     "name": "stdout",
     "output_type": "stream",
     "text": [
      "[[0 1 0 1]\n",
      " [1 0 1 0]\n",
      " [0 1 0 0]\n",
      " [0 0 1 0]\n",
      " [1 0 0 0]\n",
      " [0 0 0 0]\n",
      " [0 0 1 0]\n",
      " [0 1 0 0]\n",
      " [0 0 0 1]\n",
      " [1 0 0 1]] (10, 4)\n"
     ]
    }
   ],
   "source": [
    "#create random packing instance\n",
    "\n",
    "#idea: choose each column by picking 3 random entries.\n",
    "n = 10\n",
    "m = 4\n",
    "A = []\n",
    "for i in range(m):\n",
    "    row = [1,1,1]\n",
    "    row.extend([0 for i in range(n-3)])\n",
    "    row = np.array(row)\n",
    "    np.random.shuffle(row)\n",
    "    A.append(row)\n",
    "    \n",
    "A = np.array(A)\n",
    "\n",
    "A = A.T\n",
    "print(A, np.shape(A))"
   ]
  },
  {
   "cell_type": "code",
   "execution_count": 62,
   "id": "informal-insider",
   "metadata": {},
   "outputs": [
    {
     "name": "stdout",
     "output_type": "stream",
     "text": [
      "\n",
      "The optimal value is 6.521739130428669\n",
      "A solution x is\n",
      "[ 4.22784589e-12  5.20236434e-12  5.97371234e-12  8.26086957e-01\n",
      "  8.14632945e-13  8.69565217e-02 -7.59492514e-13  3.04347826e-01\n",
      "  9.13043478e-01  1.73913043e-01  5.08496830e-12  5.65217391e-01\n",
      "  1.30434783e-01 -1.75632169e-12  8.69565217e-01  3.04347826e-01\n",
      "  8.26086957e-01  1.30434783e-01 -1.63824056e-13 -1.59443539e-12\n",
      "  6.95652174e-01  8.69565216e-02  2.52507969e-11  4.34782609e-02\n",
      "  9.54656326e-13  3.82106275e-12  1.48894217e-12  2.20264245e-11\n",
      "  1.81838348e-11  2.58829011e-11  3.73616479e-11  3.35307201e-11\n",
      "  3.04347826e-01 -1.26148162e-12  3.42170524e-11  7.34817125e-12\n",
      "  1.73913043e-01  4.82864896e-12  3.73432263e-12  8.69565217e-02\n",
      "  7.19002983e-13]\n",
      "A dual solution is\n",
      "[4.78260870e-01 3.47826087e-01 4.34782609e-01 2.99051831e-01\n",
      " 3.53122082e-01 4.89801031e-01 5.21739130e-01 1.73913043e-01\n",
      " 4.78260870e-01 3.76218339e-12 2.99051831e-01 2.60869565e-01\n",
      " 3.04347826e-01 3.04347826e-01 2.11147138e-01 4.78260870e-01\n",
      " 3.04347826e-01 2.17391304e-01 3.47826087e-01 2.17391304e-01\n",
      " 2.14350849e-12]\n"
     ]
    }
   ],
   "source": [
    "# now create the LP.\n",
    "\n",
    "n = 21\n",
    "m = 41\n",
    "A = []\n",
    "for i in range(m):\n",
    "    row = [1,1,1]\n",
    "    row.extend([0 for i in range(n-3)])\n",
    "    row = np.array(row)\n",
    "    np.random.shuffle(row)\n",
    "    A.append(row)\n",
    "    \n",
    "A = np.array(A)\n",
    "\n",
    "A = A.T\n",
    "#print(A, np.shape(A))\n",
    "\n",
    "x = cp.Variable(m)\n",
    "b = np.ones(n)\n",
    "#print(b)\n",
    "c = np.ones(m)\n",
    "#print(c)\n",
    "\n",
    "prob = cp.Problem(cp.Maximize(c.T@x),[A @ x <= b,x>=0])\n",
    "\n",
    "prob.solve()\n",
    "\n",
    "# Print result.\n",
    "print(\"\\nThe optimal value is\", prob.value)\n",
    "print(\"A solution x is\")\n",
    "print(x.value)\n",
    "print(\"A dual solution is\")\n",
    "print(prob.constraints[0].dual_value)\n",
    "\n",
    "#should use sage to get the actual denominator. Do get some weird looking stuff, just not sure what the denom is.\n",
    "#for sure not a multiple of 1/3."
   ]
  }
 ],
 "metadata": {
  "kernelspec": {
   "display_name": "Python 3",
   "language": "python",
   "name": "python3"
  },
  "language_info": {
   "codemirror_mode": {
    "name": "ipython",
    "version": 3
   },
   "file_extension": ".py",
   "mimetype": "text/x-python",
   "name": "python",
   "nbconvert_exporter": "python",
   "pygments_lexer": "ipython3",
   "version": "3.8.5"
  }
 },
 "nbformat": 4,
 "nbformat_minor": 5
}
