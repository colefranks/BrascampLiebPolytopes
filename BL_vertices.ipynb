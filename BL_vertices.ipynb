{
 "cells": [
  {
   "cell_type": "code",
   "execution_count": 126,
   "id": "c3441200",
   "metadata": {},
   "outputs": [],
   "source": [
    "import sage.libs.lrcalc.lrcalc as lrcalc\n",
    "import itertools\n",
    "\n",
    "#the function BL_vertices([n1,n2,...nt,n]) lists the vertices for \n",
    "#generic ni x n B_i's.\n",
    "#BL_inequalities does the same but for inequalities.\n",
    "\n",
    "#to test it, run this cell and then the next one.\n",
    "\n",
    "\n",
    "def add_schurs(list1, list2):\n",
    "    for x in list2.keys():\n",
    "        if x in list1.keys():\n",
    "            list1[x] = list1[x]+list2[x]\n",
    "        else:\n",
    "            list1.update({x:list2[x]})\n",
    "\n",
    "def multiply_schurs(list1, list2, maxrows):\n",
    "    list3 = {}\n",
    "    for x in list1.keys():\n",
    "        for y in list2.keys():\n",
    "            z = lrcalc.mult(x,y,maxrows)\n",
    "            add_schurs(list3, z)\n",
    "    return list3\n",
    "    \n",
    "def multiply_many_schurs(poly_list, maxrows):\n",
    "    p = lrcalc.mult([],[])\n",
    "    for x in poly_list:\n",
    "        p = multiply_schurs(p,x,maxrows)\n",
    "    return p\n",
    "\n",
    "def dominated(biglist, candidate):\n",
    "    for listy in biglist:\n",
    "        dom = true\n",
    "        for i in range(len(candidate)-1):\n",
    "            if candidate[i] > listy[i]:\n",
    "                dom = false\n",
    "        if candidate[-1] < listy[-1]:\n",
    "            dom = false\n",
    "        if dom == true:\n",
    "            return true\n",
    "    return false\n",
    "\n",
    "def numbers_to_partition(bigdim, smalldim, subspace, intersection):\n",
    "    partition = [bigdim + intersection - smalldim - subspace for i in range(intersection)]\n",
    "    #partition.extend([0 for i in range(subspace - intersection)])\n",
    "    return partition\n",
    "    \n",
    "def valid(schur,maxcols):\n",
    "    schurs = [key for key,value in schur.items() if value ==1]\n",
    "    #print schurs\n",
    "    if len(schurs)==0:\n",
    "        return false\n",
    "    for k in schurs:\n",
    "        if len(k) == 0:\n",
    "            return true\n",
    "    l = [max(partition) for partition in schurs]\n",
    "    if min(l)<=maxcols:\n",
    "        return true\n",
    "    else:\n",
    "        return false\n",
    "\n",
    "def is_inequality(bigdim,smalldim_vector, subspace,intersection_vector):\n",
    "    partitions = [lrcalc.mult([], numbers_to_partition(bigdim, smalldim_vector[i],subspace, intersection_vector[i])) for i in range(len(smalldim_vector))]\n",
    "    #print partitions\n",
    "    z = multiply_many_schurs(partitions, subspace)\n",
    "    #print z\n",
    "    return valid(z,bigdim - subspace)\n",
    "\n",
    "def inequalities(dimension_vector):\n",
    "    dimrange = list(range(1,dimension_vector[-1]))\n",
    "    allrange = [list(range(i + 1)) for i in dimension_vector[0:-1]]\n",
    "    for i in allrange:\n",
    "        i.reverse()\n",
    "    allrange.append(dimrange)\n",
    "    potentials = cartesian_product_iterator(allrange)\n",
    "    inequalities = []\n",
    "    bigdim = dimension_vector[-1]\n",
    "\n",
    "    smalldim_vector = dimension_vector[0:-1]\n",
    "\n",
    "    for potential_inequality in potentials:\n",
    "        if not dominated(inequalities,potential_inequality):\n",
    "            #print potential_inequality\n",
    "            subspace = potential_inequality[-1]\n",
    "            intersection_vector = potential_inequality[0:-1]\n",
    "            if is_inequality(bigdim, smalldim_vector, subspace, intersection_vector):\n",
    "                inequalities.append(potential_inequality)\n",
    "    return inequalities\n",
    "    \n",
    "def positive(m):\n",
    "    positive = []\n",
    "    for i in range(m):\n",
    "        ineq = [0]\n",
    "        ineq.extend([0 for j in range(i)])\n",
    "        ineq.append(1)\n",
    "        ineq.extend([0 for j in range(m - i -1)])\n",
    "        positive.append(ineq)\n",
    "    return positive\n",
    "\n",
    "def BL_vertices(dimensionvector):\n",
    "    ineqs = inequalities(dimensionvector)\n",
    "    #print ineqs\n",
    "    faces = [[ineq[-1]]+[-i for i in ineq[0:-1]] for ineq in ineqs]\n",
    "    faces.extend(positive(len(dimensionvector)-1))\n",
    "    p = Polyhedron(ieqs=faces, eqns=[ [dimensionvector[-1]] + [-i for i in dimensionvector[0:-1]] ])\n",
    "    return p.Vrepresentation()\n",
    "\n",
    "def P_vertices(dimensionvector):\n",
    "    ineqs = inequalities(dimensionvector)\n",
    "    #print(ineqs)\n",
    "    faces = [[ineq[-1]]+[-i for i in ineq[0:-1]] for ineq in ineqs]\n",
    "    faces.extend(positive(len(dimensionvector)-1))\n",
    "    #print(faces)\n",
    "    full = [dimensionvector[-1]] + [-i for i in dimensionvector[0:-1]]\n",
    "    faces.append(full)\n",
    "    #print(faces)\n",
    "    p = Polyhedron(ieqs=faces)\n",
    "    return p.Vrepresentation()\n",
    "\n",
    "#maximizes sum n_i x_i over P, then outputs the face on which it is maximized. \n",
    "def P_slice(dimensionvector):\n",
    "    ineqs = inequalities(dimensionvector)\n",
    "    #print(ineqs)\n",
    "    faces = [[ineq[-1]]+[-i for i in ineq[0:-1]] for ineq in ineqs]\n",
    "    faces.extend(positive(len(dimensionvector)-1))\n",
    "    #print(faces)\n",
    "    full = [dimensionvector[-1]] + [-i for i in dimensionvector[0:-1]]\n",
    "    faces.append(full)\n",
    "    #print(faces)\n",
    "    p = Polyhedron(ieqs=faces)\n",
    "    p.to_linear_program\n",
    "    lp, x = p.to_linear_program(return_variable=True)\n",
    "    lp.set_objective(sum(dimensionvector[i]*x[i] for i in range(len(dimensionvector)-1)))\n",
    "    k = lp.solve()\n",
    "    print(\"unweighted maximum on P: \", k)\n",
    "    newfull = [k] + [-i for i in dimensionvector[0:-1]]\n",
    "    p = Polyhedron(ieqs=faces, eqns=[newfull])\n",
    "    #print(lp)\n",
    "    return p.Vrepresentation()\n",
    "\n"
   ]
  },
  {
   "cell_type": "code",
   "execution_count": 2,
   "id": "a322242a",
   "metadata": {},
   "outputs": [
    {
     "data": {
      "text/plain": [
       "(A vertex at (0, 0, 1, 1),\n",
       " A vertex at (0, 1, 0, 1),\n",
       " A vertex at (1, 0, 0, 1),\n",
       " A vertex at (1/2, 1/2, 1/2, 1/4))"
      ]
     },
     "execution_count": 2,
     "metadata": {},
     "output_type": "execute_result"
    }
   ],
   "source": [
    "#example\n",
    "BL_vertices([3,3,3,2,5])"
   ]
  },
  {
   "cell_type": "code",
   "execution_count": 3,
   "id": "c68ce882",
   "metadata": {},
   "outputs": [
    {
     "data": {
      "text/plain": [
       "()"
      ]
     },
     "execution_count": 3,
     "metadata": {},
     "output_type": "execute_result"
    }
   ],
   "source": [
    "#want to test if a vertex satisfies all inequalities but the sum one.\n",
    "#so the question is - if a vertex satisfies all inequalities but sums to something else, is this the same as \n",
    "#let's get an empty polytope. \n",
    "\n",
    "BL_vertices([2,2,3])"
   ]
  },
  {
   "cell_type": "code",
   "execution_count": 47,
   "id": "21cd0a47",
   "metadata": {},
   "outputs": [
    {
     "data": {
      "text/plain": [
       "(A vertex at (0, 1, 1, 1),\n",
       " A vertex at (1, 0, 1, 1),\n",
       " A vertex at (1, 1, 0, 1),\n",
       " A vertex at (1, 1, 1, 0),\n",
       " A vertex at (1, 0, 1, 0),\n",
       " A vertex at (1, 1, 0, 0),\n",
       " A vertex at (1, 0, 0, 0),\n",
       " A vertex at (1, 0, 0, 1),\n",
       " A vertex at (0, 0, 0, 1),\n",
       " A vertex at (0, 0, 1, 1),\n",
       " A vertex at (0, 1, 0, 1),\n",
       " A vertex at (0, 1, 1, 0),\n",
       " A vertex at (0, 0, 1, 0),\n",
       " A vertex at (0, 1, 0, 0),\n",
       " A vertex at (0, 0, 0, 0))"
      ]
     },
     "execution_count": 47,
     "metadata": {},
     "output_type": "execute_result"
    }
   ],
   "source": [
    "P_vertices([2,2,2,2,7])"
   ]
  },
  {
   "cell_type": "code",
   "execution_count": 63,
   "id": "581605b2",
   "metadata": {},
   "outputs": [
    {
     "data": {
      "text/plain": [
       "(A vertex at (1/2, 1/2, 1/2),)"
      ]
     },
     "execution_count": 63,
     "metadata": {},
     "output_type": "execute_result"
    }
   ],
   "source": [
    "BL_vertices([2,3,3,4])"
   ]
  },
  {
   "cell_type": "code",
   "execution_count": 62,
   "id": "ad7649c6",
   "metadata": {},
   "outputs": [
    {
     "name": "stdout",
     "output_type": "stream",
     "text": [
      "4\n"
     ]
    },
    {
     "data": {
      "text/plain": [
       "(A vertex at (1/2, 0, 1),\n",
       " A vertex at (1/2, 1, 0),\n",
       " A vertex at (1, 2/3, 0),\n",
       " A vertex at (1, 0, 2/3),\n",
       " A vertex at (0, 1, 1/3),\n",
       " A vertex at (0, 1/3, 1))"
      ]
     },
     "execution_count": 62,
     "metadata": {},
     "output_type": "execute_result"
    }
   ],
   "source": [
    "P_slice([2,3,3,6])"
   ]
  },
  {
   "cell_type": "code",
   "execution_count": 67,
   "id": "b10c31c7",
   "metadata": {},
   "outputs": [
    {
     "data": {
      "text/plain": [
       "(A vertex at (0, 1, 1),)"
      ]
     },
     "execution_count": 67,
     "metadata": {},
     "output_type": "execute_result"
    }
   ],
   "source": [
    "BL_vertices([1,2,2,4])"
   ]
  },
  {
   "cell_type": "code",
   "execution_count": 105,
   "id": "f58418b7",
   "metadata": {},
   "outputs": [
    {
     "name": "stdout",
     "output_type": "stream",
     "text": [
      "unweighted maximum on P:  7\n"
     ]
    },
    {
     "data": {
      "text/plain": [
       "(A vertex at (0, 1, 1), A vertex at (1, 0, 1))"
      ]
     },
     "execution_count": 105,
     "metadata": {},
     "output_type": "execute_result"
    }
   ],
   "source": [
    "#Oh no! \n",
    "P_slice([3,3,4,8])"
   ]
  },
  {
   "cell_type": "code",
   "execution_count": 104,
   "id": "625acbb8",
   "metadata": {},
   "outputs": [
    {
     "data": {
      "text/plain": [
       "()"
      ]
     },
     "execution_count": 104,
     "metadata": {},
     "output_type": "execute_result"
    }
   ],
   "source": [
    "BL_vertices([3,3,4,8])"
   ]
  },
  {
   "cell_type": "code",
   "execution_count": 106,
   "id": "31d1c8c2",
   "metadata": {},
   "outputs": [
    {
     "data": {
      "text/plain": [
       "(A vertex at (0, 1, 1), A vertex at (1, 0, 1))"
      ]
     },
     "execution_count": 106,
     "metadata": {},
     "output_type": "execute_result"
    }
   ],
   "source": [
    "BL_vertices([3,3,4,7])"
   ]
  },
  {
   "cell_type": "code",
   "execution_count": 78,
   "id": "43cb15ca",
   "metadata": {},
   "outputs": [
    {
     "data": {
      "text/plain": [
       "(A vertex at (1/2, 1/2, 1/2),)"
      ]
     },
     "execution_count": 78,
     "metadata": {},
     "output_type": "execute_result"
    }
   ],
   "source": [
    "BL_vertices([2,2,2,3])"
   ]
  },
  {
   "cell_type": "code",
   "execution_count": 79,
   "id": "6ebfa70d",
   "metadata": {},
   "outputs": [
    {
     "data": {
      "text/plain": [
       "()"
      ]
     },
     "execution_count": 79,
     "metadata": {},
     "output_type": "execute_result"
    }
   ],
   "source": [
    "BL_vertices([2,2,2,5])"
   ]
  },
  {
   "cell_type": "code",
   "execution_count": 88,
   "id": "87f0473d",
   "metadata": {},
   "outputs": [
    {
     "name": "stdout",
     "output_type": "stream",
     "text": [
      "unweighted maximum on P:  6\n"
     ]
    },
    {
     "data": {
      "text/plain": [
       "(A vertex at (0, 1, 1, 1),\n",
       " A vertex at (1, 1, 0, 1),\n",
       " A vertex at (1, 1, 1, 0),\n",
       " A vertex at (1, 0, 1, 1))"
      ]
     },
     "execution_count": 88,
     "metadata": {},
     "output_type": "execute_result"
    }
   ],
   "source": [
    "P_slice([2,2,2,2,7])"
   ]
  },
  {
   "cell_type": "code",
   "execution_count": 81,
   "id": "724b5415",
   "metadata": {},
   "outputs": [
    {
     "data": {
      "text/plain": [
       "(A vertex at (0, 1, 1), A vertex at (1, 1, 0), A vertex at (1, 0, 1))"
      ]
     },
     "execution_count": 81,
     "metadata": {},
     "output_type": "execute_result"
    }
   ],
   "source": [
    "BL_vertices([2,2,2,4])"
   ]
  },
  {
   "cell_type": "code",
   "execution_count": 89,
   "id": "d495a6bd",
   "metadata": {},
   "outputs": [
    {
     "name": "stdout",
     "output_type": "stream",
     "text": [
      "unweighted maximum on P:  4\n"
     ]
    },
    {
     "data": {
      "text/plain": [
       "(A vertex at (0, 1, 1), A vertex at (1, 1, 0), A vertex at (1, 0, 1))"
      ]
     },
     "execution_count": 89,
     "metadata": {},
     "output_type": "execute_result"
    }
   ],
   "source": [
    "P_slice([2,2,2,5])"
   ]
  },
  {
   "cell_type": "code",
   "execution_count": 93,
   "id": "e492cf53",
   "metadata": {},
   "outputs": [
    {
     "data": {
      "text/plain": [
       "(A vertex at (1/2, 0, 0, 0, 0),\n",
       " A vertex at (0, 1/2, 0, 0, 0),\n",
       " A vertex at (0, 0, 1/2, 0, 0),\n",
       " A vertex at (0, 0, 0, 0, 1/2),\n",
       " A vertex at (0, 0, 0, 1/2, 0))"
      ]
     },
     "execution_count": 93,
     "metadata": {},
     "output_type": "execute_result"
    }
   ],
   "source": [
    "BL_vertices([2,2,2,2,2,1])"
   ]
  },
  {
   "cell_type": "code",
   "execution_count": 109,
   "id": "fd2d335a",
   "metadata": {},
   "outputs": [
    {
     "data": {
      "text/plain": [
       "()"
      ]
     },
     "execution_count": 109,
     "metadata": {},
     "output_type": "execute_result"
    }
   ],
   "source": [
    "BL_vertices([3,3,4,9])"
   ]
  },
  {
   "cell_type": "code",
   "execution_count": 111,
   "id": "54919887",
   "metadata": {},
   "outputs": [
    {
     "name": "stdout",
     "output_type": "stream",
     "text": [
      "unweighted maximum on P:  7\n"
     ]
    },
    {
     "data": {
      "text/plain": [
       "(A vertex at (0, 1, 1), A vertex at (1, 0, 1))"
      ]
     },
     "execution_count": 111,
     "metadata": {},
     "output_type": "execute_result"
    }
   ],
   "source": [
    "P_slice([3,3,4,9])"
   ]
  },
  {
   "cell_type": "code",
   "execution_count": 113,
   "id": "da67cfe6",
   "metadata": {},
   "outputs": [
    {
     "data": {
      "text/plain": [
       "(A vertex at (0, 1, 1), A vertex at (1, 0, 1))"
      ]
     },
     "execution_count": 113,
     "metadata": {},
     "output_type": "execute_result"
    }
   ],
   "source": [
    "BL_vertices([3,3,4,7])"
   ]
  },
  {
   "cell_type": "code",
   "execution_count": 123,
   "id": "aefb739d",
   "metadata": {},
   "outputs": [
    {
     "name": "stdout",
     "output_type": "stream",
     "text": [
      "unweighted maximum on P:  10\n"
     ]
    },
    {
     "data": {
      "text/plain": [
       "(A vertex at (0, 1, 1, 1),)"
      ]
     },
     "execution_count": 123,
     "metadata": {},
     "output_type": "execute_result"
    }
   ],
   "source": [
    "P_slice([2,3,3,4,10])"
   ]
  },
  {
   "cell_type": "code",
   "execution_count": 124,
   "id": "3ce2cba2",
   "metadata": {},
   "outputs": [
    {
     "data": {
      "text/plain": [
       "(A vertex at (0, 1, 1, 1),)"
      ]
     },
     "execution_count": 124,
     "metadata": {},
     "output_type": "execute_result"
    }
   ],
   "source": [
    "BL_vertices([2,3,3,4,10])"
   ]
  },
  {
   "cell_type": "code",
   "execution_count": 135,
   "id": "bafd553b",
   "metadata": {},
   "outputs": [
    {
     "name": "stdout",
     "output_type": "stream",
     "text": [
      "unweighted maximum on P:  13/2\n"
     ]
    },
    {
     "data": {
      "text/plain": [
       "(A vertex at (1/2, 1/2, 1/2),)"
      ]
     },
     "execution_count": 135,
     "metadata": {},
     "output_type": "execute_result"
    }
   ],
   "source": [
    "#the maximum over P does not need to be integral.\n",
    "P_slice([4,4,5,7])"
   ]
  },
  {
   "cell_type": "code",
   "execution_count": 134,
   "id": "14b8c654",
   "metadata": {},
   "outputs": [
    {
     "data": {
      "text/plain": [
       "(A vertex at (0, 1, 1), A vertex at (1, 1, 0), A vertex at (1, 0, 1))"
      ]
     },
     "execution_count": 134,
     "metadata": {},
     "output_type": "execute_result"
    }
   ],
   "source": [
    "BL_vertices([5,5,5,10])"
   ]
  },
  {
   "cell_type": "markdown",
   "id": "a124b37d",
   "metadata": {},
   "source": [
    "# How about scaling to something less than it??"
   ]
  },
  {
   "cell_type": "code",
   "execution_count": 136,
   "id": "de0349a6",
   "metadata": {},
   "outputs": [],
   "source": [
    "#for examples like e.g. [4,4,5,7] we had a non-integral maximum. Do I assume that comes from a moment polytope slice corresponding to a smaller operator?"
   ]
  },
  {
   "cell_type": "code",
   "execution_count": 137,
   "id": "76c3e67c",
   "metadata": {},
   "outputs": [],
   "source": [
    "#for just matrices - if you maximize over the flow polytope, will the maxima be flow polytopes for capacities that are as concentrated as possible?"
   ]
  },
  {
   "cell_type": "code",
   "execution_count": null,
   "id": "1333be59",
   "metadata": {},
   "outputs": [],
   "source": []
  }
 ],
 "metadata": {
  "kernelspec": {
   "display_name": "SageMath 9.2",
   "language": "sage",
   "name": "sagemath"
  },
  "language_info": {
   "codemirror_mode": {
    "name": "ipython",
    "version": 3
   },
   "file_extension": ".py",
   "mimetype": "text/x-python",
   "name": "python",
   "nbconvert_exporter": "python",
   "pygments_lexer": "ipython3",
   "version": "3.9.2"
  }
 },
 "nbformat": 4,
 "nbformat_minor": 5
}
